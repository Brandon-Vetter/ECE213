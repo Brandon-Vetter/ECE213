{
 "cells": [
  {
   "cell_type": "code",
   "execution_count": 2,
   "metadata": {},
   "outputs": [],
   "source": [
    "import numpy as np\n",
    "import matplotlib.pyplot as plt\n",
    "import scipy.linalg as lin\n",
    "import cmath"
   ]
  },
  {
   "cell_type": "code",
   "execution_count": 117,
   "metadata": {},
   "outputs": [],
   "source": [
    "f = 500\n",
    "w = f*np.pi*2\n",
    "\n",
    "Vs = 4\n",
    "R1 = 3.9E3\n",
    "R2 = 470\n",
    "RL = 33\n",
    "\n",
    "C1 = 480E-9\n",
    "C2 = 82.8E-9\n",
    "L = 150E-3\n",
    "C1z = -1j/(w*C1)\n",
    "C2z = -1j/(w*C2)\n",
    "Lz = 1j*w*L\n",
    "\n",
    "A = np.matrix([[R1**-1 + RL**-1 + R2**-1 + C1z**-1, -R1**-1, -RL**-1],\n",
    "           [R1**-1, -R1**-1 + -C2z**-1, 0],\n",
    "            [RL**-1, 0, -RL**-1 + -Lz**-1]])\n",
    "\n",
    "B = np.matrix([[Vs/C1z], [0], [0]])\n",
    "\n",
    "sol = lin.solve(A, B)\n"
   ]
  },
  {
   "cell_type": "code",
   "execution_count": 118,
   "metadata": {},
   "outputs": [
    {
     "name": "stdout",
     "output_type": "stream",
     "text": [
      "node 1: 2.82842712474619\n",
      "node 2: 1.7393638656160009 < 101.18245977868618\n",
      "node 3: 1.2210419629264095 < 55.77053962406555\n",
      "node 4: 1.735114615196785 < 105.18823915103265\n",
      "\n",
      "C1 3.5963269096304495 < -28.324703833394885\n",
      "C2 1.2210419629264095 < 55.77053962406555\n",
      "L 1.735114615196785 < 105.18823915103265\n",
      "R1 1.2387264354099567 < 145.77053962406555\n",
      "R2 1.7393638656160009 < 101.18245977868618\n",
      "RL 0.12150690984940646 < 15.188239151032512\n",
      "\n",
      "0.012873985774513354\n"
     ]
    },
    {
     "name": "stderr",
     "output_type": "stream",
     "text": [
      "/tmp/ipykernel_184195/2477801806.py:9: DeprecationWarning: Conversion of an array with ndim > 0 to a scalar is deprecated, and will error in future. Ensure you extract a single element from your array before performing this operation. (Deprecated NumPy 1.25.)\n",
      "  nodes = [cmath.polar(i) for i in sol]\n",
      "/tmp/ipykernel_184195/2477801806.py:16: DeprecationWarning: Conversion of an array with ndim > 0 to a scalar is deprecated, and will error in future. Ensure you extract a single element from your array before performing this operation. (Deprecated NumPy 1.25.)\n",
      "  print(f\"C1 {cmath.polar(C1V[0])[0]/np.sqrt(2)} < {np.rad2deg(cmath.polar(C1V[0])[1])}\")\n",
      "/tmp/ipykernel_184195/2477801806.py:17: DeprecationWarning: Conversion of an array with ndim > 0 to a scalar is deprecated, and will error in future. Ensure you extract a single element from your array before performing this operation. (Deprecated NumPy 1.25.)\n",
      "  print(f\"C2 {cmath.polar(C2V[0])[0]/np.sqrt(2)} < {np.rad2deg(cmath.polar(C2V[0])[1])}\")\n",
      "/tmp/ipykernel_184195/2477801806.py:18: DeprecationWarning: Conversion of an array with ndim > 0 to a scalar is deprecated, and will error in future. Ensure you extract a single element from your array before performing this operation. (Deprecated NumPy 1.25.)\n",
      "  print(f\"L {cmath.polar(LV[0])[0]/np.sqrt(2)} < {np.rad2deg(cmath.polar(LV[0])[1])}\")\n",
      "/tmp/ipykernel_184195/2477801806.py:19: DeprecationWarning: Conversion of an array with ndim > 0 to a scalar is deprecated, and will error in future. Ensure you extract a single element from your array before performing this operation. (Deprecated NumPy 1.25.)\n",
      "  print(f\"R1 {cmath.polar(R1V[0])[0]/np.sqrt(2)} < {np.rad2deg(cmath.polar(R1V[0])[1])}\")\n",
      "/tmp/ipykernel_184195/2477801806.py:20: DeprecationWarning: Conversion of an array with ndim > 0 to a scalar is deprecated, and will error in future. Ensure you extract a single element from your array before performing this operation. (Deprecated NumPy 1.25.)\n",
      "  print(f\"R2 {cmath.polar(R2V[0])[0]/np.sqrt(2)} < {np.rad2deg(cmath.polar(R2V[0])[1])}\")\n",
      "/tmp/ipykernel_184195/2477801806.py:21: DeprecationWarning: Conversion of an array with ndim > 0 to a scalar is deprecated, and will error in future. Ensure you extract a single element from your array before performing this operation. (Deprecated NumPy 1.25.)\n",
      "  print(f\"RL {cmath.polar(RLV[0])[0]/np.sqrt(2)} < {np.rad2deg(cmath.polar(RLV[0])[1])}\")\n",
      "/tmp/ipykernel_184195/2477801806.py:23: DeprecationWarning: Conversion of an array with ndim > 0 to a scalar is deprecated, and will error in future. Ensure you extract a single element from your array before performing this operation. (Deprecated NumPy 1.25.)\n",
      "  print(cmath.polar(R2V[0])[0]**2/R2)\n"
     ]
    }
   ],
   "source": [
    "C1V = [Vs - sol[0], (Vs - sol[0])/C1z]\n",
    "C2V = [sol[1], sol[1]/C2z]\n",
    "LV = [sol[2], sol[2]/Lz]\n",
    "R1V = [sol[0] - sol[1],(sol[0] - sol[1])/R1]\n",
    "R2V = [sol[0], (sol[0])/R2]\n",
    "RLV = [sol[0] - sol[2], (sol[0] - sol[2])/RL]\n",
    "\n",
    "\n",
    "nodes = [cmath.polar(i) for i in sol]\n",
    "node_num = 2\n",
    "print(f\"node 1: {Vs/np.sqrt(2)}\")\n",
    "for node in nodes:\n",
    "    print(f\"node {node_num}: {node[0]/np.sqrt(2)} < {np.rad2deg(node[1])}\")\n",
    "    node_num+=1\n",
    "print()\n",
    "print(f\"C1 {cmath.polar(C1V[0])[0]/np.sqrt(2)} < {np.rad2deg(cmath.polar(C1V[0])[1])}\")\n",
    "print(f\"C2 {cmath.polar(C2V[0])[0]/np.sqrt(2)} < {np.rad2deg(cmath.polar(C2V[0])[1])}\")\n",
    "print(f\"L {cmath.polar(LV[0])[0]/np.sqrt(2)} < {np.rad2deg(cmath.polar(LV[0])[1])}\")\n",
    "print(f\"R1 {cmath.polar(R1V[0])[0]/np.sqrt(2)} < {np.rad2deg(cmath.polar(R1V[0])[1])}\")\n",
    "print(f\"R2 {cmath.polar(R2V[0])[0]/np.sqrt(2)} < {np.rad2deg(cmath.polar(R2V[0])[1])}\")\n",
    "print(f\"RL {cmath.polar(RLV[0])[0]/np.sqrt(2)} < {np.rad2deg(cmath.polar(RLV[0])[1])}\")\n",
    "print()\n",
    "print(cmath.polar(R2V[0])[0]**2/R2)\n"
   ]
  }
 ],
 "metadata": {
  "kernelspec": {
   "display_name": "3.9.21",
   "language": "python",
   "name": "python3"
  },
  "language_info": {
   "codemirror_mode": {
    "name": "ipython",
    "version": 3
   },
   "file_extension": ".py",
   "mimetype": "text/x-python",
   "name": "python",
   "nbconvert_exporter": "python",
   "pygments_lexer": "ipython3",
   "version": "3.9.21"
  }
 },
 "nbformat": 4,
 "nbformat_minor": 2
}
